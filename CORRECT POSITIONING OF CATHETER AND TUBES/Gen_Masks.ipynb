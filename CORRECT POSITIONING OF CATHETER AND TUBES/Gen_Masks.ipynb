{
  "nbformat": 4,
  "nbformat_minor": 5,
  "metadata": {
    "kernelspec": {
      "display_name": "Python 3",
      "language": "python",
      "name": "python3"
    },
    "language_info": {
      "codemirror_mode": {
        "name": "ipython",
        "version": 3
      },
      "file_extension": ".py",
      "mimetype": "text/x-python",
      "name": "python",
      "nbconvert_exporter": "python",
      "pygments_lexer": "ipython3",
      "version": "3.7.9"
    },
    "papermill": {
      "default_parameters": {},
      "duration": 5364.021243,
      "end_time": "2021-05-08T01:11:14.639663",
      "environment_variables": {},
      "exception": null,
      "input_path": "__notebook__.ipynb",
      "output_path": "__notebook__.ipynb",
      "parameters": {},
      "start_time": "2021-05-07T23:41:50.618420",
      "version": "2.3.2"
    },
    "colab": {
      "name": "Gen_Masks.ipynb",
      "provenance": []
    }
  },
  "cells": [
    {
      "cell_type": "markdown",
      "metadata": {
        "papermill": {
          "duration": 0.017706,
          "end_time": "2021-05-07T23:41:55.949200",
          "exception": false,
          "start_time": "2021-05-07T23:41:55.931494",
          "status": "completed"
        },
        "tags": [],
        "id": "light-suffering"
      },
      "source": [
        "## Install Segmentation Models "
      ],
      "id": "light-suffering"
    },
    {
      "cell_type": "code",
      "metadata": {
        "execution": {
          "iopub.execute_input": "2021-05-07T23:41:56.001176Z",
          "iopub.status.busy": "2021-05-07T23:41:56.000611Z",
          "iopub.status.idle": "2021-05-07T23:42:21.920551Z",
          "shell.execute_reply": "2021-05-07T23:42:21.919622Z"
        },
        "papermill": {
          "duration": 25.953159,
          "end_time": "2021-05-07T23:42:21.920703",
          "exception": false,
          "start_time": "2021-05-07T23:41:55.967544",
          "status": "completed"
        },
        "tags": [],
        "id": "spoken-diploma",
        "outputId": "d170c34a-82bf-41bd-b0db-397dcb440f65"
      },
      "source": [
        "%env SM_FRAMEWORK=tf.keras\n",
        "!pip install ../input/segmentation-models-keras/Keras_Applications-1.0.8-py3-none-any.whl --quiet\n",
        "!pip install ../input/segmentation-models-keras/image_classifiers-1.0.0-py3-none-any.whl --quiet\n",
        "!pip install ../input/segmentation-models-keras/efficientnet-1.0.0-py3-none-any.whl --quiet\n",
        "!pip install ../input/segmentation-models-keras/segmentation_models-1.0.1-py3-none-any.whl --quiet\n",
        "\n",
        "print(\"Segmentation Models installed.\")"
      ],
      "id": "spoken-diploma",
      "execution_count": null,
      "outputs": [
        {
          "name": "stdout",
          "output_type": "stream",
          "text": [
            "env: SM_FRAMEWORK=tf.keras\n",
            "Segmentation Models installed.\n"
          ]
        }
      ]
    },
    {
      "cell_type": "markdown",
      "metadata": {
        "papermill": {
          "duration": 0.018226,
          "end_time": "2021-05-07T23:42:21.962202",
          "exception": false,
          "start_time": "2021-05-07T23:42:21.943976",
          "status": "completed"
        },
        "tags": [],
        "id": "wooden-disco"
      },
      "source": [
        "## Config and Libraries"
      ],
      "id": "wooden-disco"
    },
    {
      "cell_type": "code",
      "metadata": {
        "execution": {
          "iopub.execute_input": "2021-05-07T23:42:22.003857Z",
          "iopub.status.busy": "2021-05-07T23:42:22.003314Z",
          "iopub.status.idle": "2021-05-07T23:42:22.007661Z",
          "shell.execute_reply": "2021-05-07T23:42:22.007184Z"
        },
        "papermill": {
          "duration": 0.026925,
          "end_time": "2021-05-07T23:42:22.007788",
          "exception": false,
          "start_time": "2021-05-07T23:42:21.980863",
          "status": "completed"
        },
        "tags": [],
        "id": "tribal-vector"
      },
      "source": [
        "DEBUG = False"
      ],
      "id": "tribal-vector",
      "execution_count": null,
      "outputs": []
    },
    {
      "cell_type": "code",
      "metadata": {
        "_cell_guid": "b1076dfc-b9ad-4769-8c92-a6c4dae69d19",
        "_uuid": "8f2839f25d086af736a60e9eeb907d3b93b6e0e5",
        "execution": {
          "iopub.execute_input": "2021-05-07T23:42:22.050211Z",
          "iopub.status.busy": "2021-05-07T23:42:22.049429Z",
          "iopub.status.idle": "2021-05-07T23:42:27.842253Z",
          "shell.execute_reply": "2021-05-07T23:42:27.843005Z"
        },
        "papermill": {
          "duration": 5.816824,
          "end_time": "2021-05-07T23:42:27.843202",
          "exception": false,
          "start_time": "2021-05-07T23:42:22.026378",
          "status": "completed"
        },
        "tags": [],
        "id": "dedicated-answer",
        "outputId": "83688fd9-7ae9-4648-d304-a221e4bb6c27"
      },
      "source": [
        "# libraries\n",
        "import pandas as pd\n",
        "import matplotlib.pyplot as plt\n",
        "import tensorflow as tf\n",
        "import segmentation_models as sm\n",
        "from kaggle_datasets import KaggleDatasets\n",
        "\n",
        "print(tf.__version__)"
      ],
      "id": "dedicated-answer",
      "execution_count": null,
      "outputs": [
        {
          "name": "stdout",
          "output_type": "stream",
          "text": [
            "Segmentation Models: using `tf.keras` framework.\n",
            "2.4.1\n"
          ]
        }
      ]
    },
    {
      "cell_type": "code",
      "metadata": {
        "execution": {
          "iopub.execute_input": "2021-05-07T23:42:27.887301Z",
          "iopub.status.busy": "2021-05-07T23:42:27.886091Z",
          "iopub.status.idle": "2021-05-07T23:42:27.889037Z",
          "shell.execute_reply": "2021-05-07T23:42:27.888614Z"
        },
        "papermill": {
          "duration": 0.025906,
          "end_time": "2021-05-07T23:42:27.889148",
          "exception": false,
          "start_time": "2021-05-07T23:42:27.863242",
          "status": "completed"
        },
        "tags": [],
        "id": "complicated-desperate"
      },
      "source": [
        "train_image_size = 1024\n",
        "gen_image_size = 512\n",
        "batch_size = 16\n",
        "jpeg_quality = 100"
      ],
      "id": "complicated-desperate",
      "execution_count": null,
      "outputs": []
    },
    {
      "cell_type": "code",
      "metadata": {
        "execution": {
          "iopub.execute_input": "2021-05-07T23:42:27.931073Z",
          "iopub.status.busy": "2021-05-07T23:42:27.930482Z",
          "iopub.status.idle": "2021-05-07T23:42:27.934532Z",
          "shell.execute_reply": "2021-05-07T23:42:27.934087Z"
        },
        "papermill": {
          "duration": 0.026607,
          "end_time": "2021-05-07T23:42:27.934638",
          "exception": false,
          "start_time": "2021-05-07T23:42:27.908031",
          "status": "completed"
        },
        "tags": [],
        "id": "favorite-theology"
      },
      "source": [
        "sm.set_framework('tf.keras')\n",
        "tf.keras.backend.set_image_data_format('channels_last')"
      ],
      "id": "favorite-theology",
      "execution_count": null,
      "outputs": []
    },
    {
      "cell_type": "markdown",
      "metadata": {
        "papermill": {
          "duration": 0.019275,
          "end_time": "2021-05-07T23:42:27.973152",
          "exception": false,
          "start_time": "2021-05-07T23:42:27.953877",
          "status": "completed"
        },
        "tags": [],
        "id": "honest-paradise"
      },
      "source": [
        "## TPU"
      ],
      "id": "honest-paradise"
    },
    {
      "cell_type": "code",
      "metadata": {
        "execution": {
          "iopub.execute_input": "2021-05-07T23:42:28.844515Z",
          "iopub.status.busy": "2021-05-07T23:42:28.843560Z",
          "iopub.status.idle": "2021-05-07T23:42:30.460099Z",
          "shell.execute_reply": "2021-05-07T23:42:30.460996Z"
        },
        "papermill": {
          "duration": 2.468487,
          "end_time": "2021-05-07T23:42:30.461191",
          "exception": false,
          "start_time": "2021-05-07T23:42:27.992704",
          "status": "completed"
        },
        "tags": [],
        "id": "controlled-isaac",
        "outputId": "7d3d32ce-0255-41ab-a854-66dbeb5cb0a5"
      },
      "source": [
        "try: # detect TPUs\n",
        "    # NEW: in Tensorflow 2.4\n",
        "    tpu = tf.distribute.cluster_resolver.TPUClusterResolver.connect() \n",
        "    strategy = tf.distribute.TPUStrategy(tpu)\n",
        "except ValueError: # otherwise detect GPUs\n",
        "    strategy = tf.distribute.MirroredStrategy() # single-GPU or multi-GPU\n",
        "    \n",
        "print(f\"Running on {strategy.num_replicas_in_sync} replicas\")"
      ],
      "id": "controlled-isaac",
      "execution_count": null,
      "outputs": [
        {
          "name": "stdout",
          "output_type": "stream",
          "text": [
            "Running on 1 replicas\n"
          ]
        }
      ]
    },
    {
      "cell_type": "code",
      "metadata": {
        "execution": {
          "iopub.execute_input": "2021-05-07T23:42:30.505172Z",
          "iopub.status.busy": "2021-05-07T23:42:30.504592Z",
          "iopub.status.idle": "2021-05-07T23:42:30.507972Z",
          "shell.execute_reply": "2021-05-07T23:42:30.508864Z"
        },
        "papermill": {
          "duration": 0.027241,
          "end_time": "2021-05-07T23:42:30.509000",
          "exception": false,
          "start_time": "2021-05-07T23:42:30.481759",
          "status": "completed"
        },
        "tags": [],
        "id": "nervous-reminder"
      },
      "source": [
        "ranzcr_name = 'ranzcr-clip-catheter-line-classification'\n",
        "ranzcr_fold_dir = '../input/ranzcr-fold/'\n",
        "ranzcr_model_dir = '../input/ranzcr-1st-place-solution-by-tf-models/'"
      ],
      "id": "nervous-reminder",
      "execution_count": null,
      "outputs": []
    },
    {
      "cell_type": "code",
      "metadata": {
        "execution": {
          "iopub.execute_input": "2021-05-07T23:42:30.554930Z",
          "iopub.status.busy": "2021-05-07T23:42:30.553163Z",
          "iopub.status.idle": "2021-05-07T23:42:30.555550Z",
          "shell.execute_reply": "2021-05-07T23:42:30.555998Z"
        },
        "papermill": {
          "duration": 0.027116,
          "end_time": "2021-05-07T23:42:30.556132",
          "exception": false,
          "start_time": "2021-05-07T23:42:30.529016",
          "status": "completed"
        },
        "tags": [],
        "id": "minor-seeking"
      },
      "source": [
        "seg_model_name = 'seg_model_V10_0.hdf5'\n",
        "\n",
        "AUTOTUNE = tf.data.experimental.AUTOTUNE"
      ],
      "id": "minor-seeking",
      "execution_count": null,
      "outputs": []
    },
    {
      "cell_type": "code",
      "metadata": {
        "execution": {
          "iopub.execute_input": "2021-05-07T23:42:30.609412Z",
          "iopub.status.busy": "2021-05-07T23:42:30.608807Z",
          "iopub.status.idle": "2021-05-07T23:42:31.120915Z",
          "shell.execute_reply": "2021-05-07T23:42:31.120033Z"
        },
        "papermill": {
          "duration": 0.545276,
          "end_time": "2021-05-07T23:42:31.121041",
          "exception": false,
          "start_time": "2021-05-07T23:42:30.575765",
          "status": "completed"
        },
        "tags": [],
        "id": "accurate-sheet",
        "outputId": "bc714b8d-ea3c-45e2-9ef8-392c55f2fb73"
      },
      "source": [
        "GCS_DS_PATH = KaggleDatasets().get_gcs_path(ranzcr_name)\n",
        "\n",
        "GCS_DS_PATH"
      ],
      "id": "accurate-sheet",
      "execution_count": null,
      "outputs": [
        {
          "data": {
            "text/plain": [
              "'gs://kds-74be58d7e46cc22b8b758872846135d501460d7219e69a8c30700579'"
            ]
          },
          "execution_count": 9,
          "metadata": {},
          "output_type": "execute_result"
        }
      ]
    },
    {
      "cell_type": "markdown",
      "metadata": {
        "papermill": {
          "duration": 0.020132,
          "end_time": "2021-05-07T23:42:31.161338",
          "exception": false,
          "start_time": "2021-05-07T23:42:31.141206",
          "status": "completed"
        },
        "tags": [],
        "id": "moving-ethnic"
      },
      "source": [
        "## Train_V2"
      ],
      "id": "moving-ethnic"
    },
    {
      "cell_type": "code",
      "metadata": {
        "execution": {
          "iopub.execute_input": "2021-05-07T23:42:31.210712Z",
          "iopub.status.busy": "2021-05-07T23:42:31.210220Z",
          "iopub.status.idle": "2021-05-07T23:42:31.331458Z",
          "shell.execute_reply": "2021-05-07T23:42:31.331939Z"
        },
        "papermill": {
          "duration": 0.150711,
          "end_time": "2021-05-07T23:42:31.332110",
          "exception": false,
          "start_time": "2021-05-07T23:42:31.181399",
          "status": "completed"
        },
        "tags": [],
        "id": "peaceful-mentor",
        "outputId": "441a6cdf-b543-46cc-9b1a-89926177ff08"
      },
      "source": [
        "df_train = pd.read_csv(ranzcr_fold_dir + 'train_v2.csv')\n",
        "\n",
        "df_train"
      ],
      "id": "peaceful-mentor",
      "execution_count": null,
      "outputs": [
        {
          "data": {
            "text/html": [
              "<div>\n",
              "<style scoped>\n",
              "    .dataframe tbody tr th:only-of-type {\n",
              "        vertical-align: middle;\n",
              "    }\n",
              "\n",
              "    .dataframe tbody tr th {\n",
              "        vertical-align: top;\n",
              "    }\n",
              "\n",
              "    .dataframe thead th {\n",
              "        text-align: right;\n",
              "    }\n",
              "</style>\n",
              "<table border=\"1\" class=\"dataframe\">\n",
              "  <thead>\n",
              "    <tr style=\"text-align: right;\">\n",
              "      <th></th>\n",
              "      <th>StudyInstanceUID</th>\n",
              "      <th>ETT - Abnormal</th>\n",
              "      <th>ETT - Borderline</th>\n",
              "      <th>ETT - Normal</th>\n",
              "      <th>NGT - Abnormal</th>\n",
              "      <th>NGT - Borderline</th>\n",
              "      <th>NGT - Incompletely Imaged</th>\n",
              "      <th>NGT - Normal</th>\n",
              "      <th>CVC - Abnormal</th>\n",
              "      <th>CVC - Borderline</th>\n",
              "      <th>CVC - Normal</th>\n",
              "      <th>Swan Ganz Catheter Present</th>\n",
              "      <th>PatientID</th>\n",
              "      <th>fold</th>\n",
              "      <th>w_anno</th>\n",
              "    </tr>\n",
              "  </thead>\n",
              "  <tbody>\n",
              "    <tr>\n",
              "      <th>0</th>\n",
              "      <td>1.2.826.0.1.3680043.8.498.26697628953273228189...</td>\n",
              "      <td>0</td>\n",
              "      <td>0</td>\n",
              "      <td>0</td>\n",
              "      <td>0</td>\n",
              "      <td>0</td>\n",
              "      <td>0</td>\n",
              "      <td>1</td>\n",
              "      <td>0</td>\n",
              "      <td>0</td>\n",
              "      <td>0</td>\n",
              "      <td>0</td>\n",
              "      <td>ec89415d1</td>\n",
              "      <td>1</td>\n",
              "      <td>False</td>\n",
              "    </tr>\n",
              "    <tr>\n",
              "      <th>1</th>\n",
              "      <td>1.2.826.0.1.3680043.8.498.46302891597398758759...</td>\n",
              "      <td>0</td>\n",
              "      <td>0</td>\n",
              "      <td>1</td>\n",
              "      <td>0</td>\n",
              "      <td>0</td>\n",
              "      <td>1</td>\n",
              "      <td>0</td>\n",
              "      <td>0</td>\n",
              "      <td>0</td>\n",
              "      <td>1</td>\n",
              "      <td>0</td>\n",
              "      <td>bf4c6da3c</td>\n",
              "      <td>3</td>\n",
              "      <td>False</td>\n",
              "    </tr>\n",
              "    <tr>\n",
              "      <th>2</th>\n",
              "      <td>1.2.826.0.1.3680043.8.498.23819260719748494858...</td>\n",
              "      <td>0</td>\n",
              "      <td>0</td>\n",
              "      <td>0</td>\n",
              "      <td>0</td>\n",
              "      <td>0</td>\n",
              "      <td>0</td>\n",
              "      <td>0</td>\n",
              "      <td>0</td>\n",
              "      <td>1</td>\n",
              "      <td>0</td>\n",
              "      <td>0</td>\n",
              "      <td>3fc1c97e5</td>\n",
              "      <td>3</td>\n",
              "      <td>True</td>\n",
              "    </tr>\n",
              "    <tr>\n",
              "      <th>3</th>\n",
              "      <td>1.2.826.0.1.3680043.8.498.68286643202323212801...</td>\n",
              "      <td>0</td>\n",
              "      <td>0</td>\n",
              "      <td>0</td>\n",
              "      <td>0</td>\n",
              "      <td>0</td>\n",
              "      <td>0</td>\n",
              "      <td>0</td>\n",
              "      <td>1</td>\n",
              "      <td>0</td>\n",
              "      <td>0</td>\n",
              "      <td>0</td>\n",
              "      <td>c31019814</td>\n",
              "      <td>3</td>\n",
              "      <td>False</td>\n",
              "    </tr>\n",
              "    <tr>\n",
              "      <th>4</th>\n",
              "      <td>1.2.826.0.1.3680043.8.498.10050203009225938259...</td>\n",
              "      <td>0</td>\n",
              "      <td>0</td>\n",
              "      <td>0</td>\n",
              "      <td>0</td>\n",
              "      <td>0</td>\n",
              "      <td>0</td>\n",
              "      <td>0</td>\n",
              "      <td>0</td>\n",
              "      <td>0</td>\n",
              "      <td>1</td>\n",
              "      <td>0</td>\n",
              "      <td>207685cd1</td>\n",
              "      <td>0</td>\n",
              "      <td>False</td>\n",
              "    </tr>\n",
              "    <tr>\n",
              "      <th>...</th>\n",
              "      <td>...</td>\n",
              "      <td>...</td>\n",
              "      <td>...</td>\n",
              "      <td>...</td>\n",
              "      <td>...</td>\n",
              "      <td>...</td>\n",
              "      <td>...</td>\n",
              "      <td>...</td>\n",
              "      <td>...</td>\n",
              "      <td>...</td>\n",
              "      <td>...</td>\n",
              "      <td>...</td>\n",
              "      <td>...</td>\n",
              "      <td>...</td>\n",
              "      <td>...</td>\n",
              "    </tr>\n",
              "    <tr>\n",
              "      <th>30078</th>\n",
              "      <td>1.2.826.0.1.3680043.8.498.74257566841157531124...</td>\n",
              "      <td>0</td>\n",
              "      <td>0</td>\n",
              "      <td>1</td>\n",
              "      <td>0</td>\n",
              "      <td>0</td>\n",
              "      <td>0</td>\n",
              "      <td>0</td>\n",
              "      <td>0</td>\n",
              "      <td>1</td>\n",
              "      <td>1</td>\n",
              "      <td>0</td>\n",
              "      <td>5b5b9ac30</td>\n",
              "      <td>3</td>\n",
              "      <td>False</td>\n",
              "    </tr>\n",
              "    <tr>\n",
              "      <th>30079</th>\n",
              "      <td>1.2.826.0.1.3680043.8.498.46510939987173529969...</td>\n",
              "      <td>0</td>\n",
              "      <td>0</td>\n",
              "      <td>0</td>\n",
              "      <td>0</td>\n",
              "      <td>0</td>\n",
              "      <td>0</td>\n",
              "      <td>0</td>\n",
              "      <td>0</td>\n",
              "      <td>0</td>\n",
              "      <td>1</td>\n",
              "      <td>0</td>\n",
              "      <td>7192404d8</td>\n",
              "      <td>0</td>\n",
              "      <td>True</td>\n",
              "    </tr>\n",
              "    <tr>\n",
              "      <th>30080</th>\n",
              "      <td>1.2.826.0.1.3680043.8.498.43173270582850645437...</td>\n",
              "      <td>0</td>\n",
              "      <td>0</td>\n",
              "      <td>1</td>\n",
              "      <td>0</td>\n",
              "      <td>0</td>\n",
              "      <td>1</td>\n",
              "      <td>0</td>\n",
              "      <td>1</td>\n",
              "      <td>0</td>\n",
              "      <td>1</td>\n",
              "      <td>0</td>\n",
              "      <td>d4d1b066d</td>\n",
              "      <td>1</td>\n",
              "      <td>True</td>\n",
              "    </tr>\n",
              "    <tr>\n",
              "      <th>30081</th>\n",
              "      <td>1.2.826.0.1.3680043.8.498.95092491950130838685...</td>\n",
              "      <td>0</td>\n",
              "      <td>0</td>\n",
              "      <td>0</td>\n",
              "      <td>0</td>\n",
              "      <td>0</td>\n",
              "      <td>0</td>\n",
              "      <td>0</td>\n",
              "      <td>0</td>\n",
              "      <td>1</td>\n",
              "      <td>0</td>\n",
              "      <td>0</td>\n",
              "      <td>01a6602b8</td>\n",
              "      <td>3</td>\n",
              "      <td>False</td>\n",
              "    </tr>\n",
              "    <tr>\n",
              "      <th>30082</th>\n",
              "      <td>1.2.826.0.1.3680043.8.498.99518162226171269731...</td>\n",
              "      <td>0</td>\n",
              "      <td>0</td>\n",
              "      <td>1</td>\n",
              "      <td>0</td>\n",
              "      <td>0</td>\n",
              "      <td>0</td>\n",
              "      <td>0</td>\n",
              "      <td>0</td>\n",
              "      <td>0</td>\n",
              "      <td>1</td>\n",
              "      <td>0</td>\n",
              "      <td>e692d316c</td>\n",
              "      <td>3</td>\n",
              "      <td>True</td>\n",
              "    </tr>\n",
              "  </tbody>\n",
              "</table>\n",
              "<p>30083 rows × 15 columns</p>\n",
              "</div>"
            ],
            "text/plain": [
              "                                        StudyInstanceUID  ETT - Abnormal  \\\n",
              "0      1.2.826.0.1.3680043.8.498.26697628953273228189...               0   \n",
              "1      1.2.826.0.1.3680043.8.498.46302891597398758759...               0   \n",
              "2      1.2.826.0.1.3680043.8.498.23819260719748494858...               0   \n",
              "3      1.2.826.0.1.3680043.8.498.68286643202323212801...               0   \n",
              "4      1.2.826.0.1.3680043.8.498.10050203009225938259...               0   \n",
              "...                                                  ...             ...   \n",
              "30078  1.2.826.0.1.3680043.8.498.74257566841157531124...               0   \n",
              "30079  1.2.826.0.1.3680043.8.498.46510939987173529969...               0   \n",
              "30080  1.2.826.0.1.3680043.8.498.43173270582850645437...               0   \n",
              "30081  1.2.826.0.1.3680043.8.498.95092491950130838685...               0   \n",
              "30082  1.2.826.0.1.3680043.8.498.99518162226171269731...               0   \n",
              "\n",
              "       ETT - Borderline  ETT - Normal  NGT - Abnormal  NGT - Borderline  \\\n",
              "0                     0             0               0                 0   \n",
              "1                     0             1               0                 0   \n",
              "2                     0             0               0                 0   \n",
              "3                     0             0               0                 0   \n",
              "4                     0             0               0                 0   \n",
              "...                 ...           ...             ...               ...   \n",
              "30078                 0             1               0                 0   \n",
              "30079                 0             0               0                 0   \n",
              "30080                 0             1               0                 0   \n",
              "30081                 0             0               0                 0   \n",
              "30082                 0             1               0                 0   \n",
              "\n",
              "       NGT - Incompletely Imaged  NGT - Normal  CVC - Abnormal  \\\n",
              "0                              0             1               0   \n",
              "1                              1             0               0   \n",
              "2                              0             0               0   \n",
              "3                              0             0               1   \n",
              "4                              0             0               0   \n",
              "...                          ...           ...             ...   \n",
              "30078                          0             0               0   \n",
              "30079                          0             0               0   \n",
              "30080                          1             0               1   \n",
              "30081                          0             0               0   \n",
              "30082                          0             0               0   \n",
              "\n",
              "       CVC - Borderline  CVC - Normal  Swan Ganz Catheter Present  PatientID  \\\n",
              "0                     0             0                           0  ec89415d1   \n",
              "1                     0             1                           0  bf4c6da3c   \n",
              "2                     1             0                           0  3fc1c97e5   \n",
              "3                     0             0                           0  c31019814   \n",
              "4                     0             1                           0  207685cd1   \n",
              "...                 ...           ...                         ...        ...   \n",
              "30078                 1             1                           0  5b5b9ac30   \n",
              "30079                 0             1                           0  7192404d8   \n",
              "30080                 0             1                           0  d4d1b066d   \n",
              "30081                 1             0                           0  01a6602b8   \n",
              "30082                 0             1                           0  e692d316c   \n",
              "\n",
              "       fold  w_anno  \n",
              "0         1   False  \n",
              "1         3   False  \n",
              "2         3    True  \n",
              "3         3   False  \n",
              "4         0   False  \n",
              "...     ...     ...  \n",
              "30078     3   False  \n",
              "30079     0    True  \n",
              "30080     1    True  \n",
              "30081     3   False  \n",
              "30082     3    True  \n",
              "\n",
              "[30083 rows x 15 columns]"
            ]
          },
          "execution_count": 10,
          "metadata": {},
          "output_type": "execute_result"
        }
      ]
    },
    {
      "cell_type": "code",
      "metadata": {
        "execution": {
          "iopub.execute_input": "2021-05-07T23:42:31.392333Z",
          "iopub.status.busy": "2021-05-07T23:42:31.391602Z",
          "iopub.status.idle": "2021-05-07T23:42:31.394716Z",
          "shell.execute_reply": "2021-05-07T23:42:31.395163Z"
        },
        "papermill": {
          "duration": 0.04176,
          "end_time": "2021-05-07T23:42:31.395297",
          "exception": false,
          "start_time": "2021-05-07T23:42:31.353537",
          "status": "completed"
        },
        "tags": [],
        "id": "fatty-maine",
        "outputId": "248c62fc-dccc-47a2-f725-634c69e10d26"
      },
      "source": [
        "uid_fold_dict = dict(\n",
        "    zip(df_train['StudyInstanceUID'], df_train['fold']))\n",
        "\n",
        "len(uid_fold_dict)"
      ],
      "id": "fatty-maine",
      "execution_count": null,
      "outputs": [
        {
          "data": {
            "text/plain": [
              "30083"
            ]
          },
          "execution_count": 11,
          "metadata": {},
          "output_type": "execute_result"
        }
      ]
    },
    {
      "cell_type": "markdown",
      "metadata": {
        "papermill": {
          "duration": 0.021406,
          "end_time": "2021-05-07T23:42:31.437672",
          "exception": false,
          "start_time": "2021-05-07T23:42:31.416266",
          "status": "completed"
        },
        "tags": [],
        "id": "weird-chest"
      },
      "source": [
        "## Train TFRecords"
      ],
      "id": "weird-chest"
    },
    {
      "cell_type": "code",
      "metadata": {
        "execution": {
          "iopub.execute_input": "2021-05-07T23:42:31.495049Z",
          "iopub.status.busy": "2021-05-07T23:42:31.493203Z",
          "iopub.status.idle": "2021-05-07T23:42:31.495660Z",
          "shell.execute_reply": "2021-05-07T23:42:31.496129Z"
        },
        "papermill": {
          "duration": 0.037474,
          "end_time": "2021-05-07T23:42:31.496272",
          "exception": false,
          "start_time": "2021-05-07T23:42:31.458798",
          "status": "completed"
        },
        "tags": [],
        "id": "norwegian-official"
      },
      "source": [
        "def decode_train_image(image_data):\n",
        "    image = tf.image.decode_jpeg(image_data, channels=3)\n",
        "    return image\n",
        "\n",
        "def read_train_tfrecord(example):\n",
        "    TFREC_FORMAT = {\n",
        "        'image': tf.io.FixedLenFeature([], tf.string),\n",
        "        'StudyInstanceUID': tf.io.FixedLenFeature([], tf.string),\n",
        "        'ETT - Abnormal': tf.io.FixedLenFeature([], tf.int64),\n",
        "        'ETT - Borderline': tf.io.FixedLenFeature([], tf.int64),\n",
        "        'ETT - Normal': tf.io.FixedLenFeature([], tf.int64),\n",
        "        'NGT - Abnormal': tf.io.FixedLenFeature([], tf.int64),\n",
        "        'NGT - Borderline': tf.io.FixedLenFeature([], tf.int64),\n",
        "        'NGT - Incompletely Imaged': tf.io.FixedLenFeature([], tf.int64),\n",
        "        'NGT - Normal': tf.io.FixedLenFeature([], tf.int64),\n",
        "        'CVC - Abnormal': tf.io.FixedLenFeature([], tf.int64),\n",
        "        'CVC - Borderline': tf.io.FixedLenFeature([], tf.int64),\n",
        "        'CVC - Normal': tf.io.FixedLenFeature([], tf.int64),\n",
        "        'Swan Ganz Catheter Present': tf.io.FixedLenFeature([], tf.int64),\n",
        "    }\n",
        "    \n",
        "    example = tf.io.parse_single_example(example, TFREC_FORMAT)\n",
        "    image = decode_train_image(example['image'])\n",
        "    study_inst_id = example['StudyInstanceUID']\n",
        "    ett_abnormal = example['ETT - Abnormal']\n",
        "    ett_borderline = example['ETT - Borderline']\n",
        "    ett_normal = example['ETT - Normal']\n",
        "    ngt_abnormal = example['NGT - Abnormal']\n",
        "    ngt_borderline = example['NGT - Borderline']\n",
        "    ngt_inc_imaged = example['NGT - Incompletely Imaged']\n",
        "    ngt_normal = example['NGT - Normal']\n",
        "    cvc_abnormal = example['CVC - Abnormal']\n",
        "    cvc_borderline = example['CVC - Borderline']\n",
        "    cvc_normal = example['CVC - Normal']\n",
        "    swan_ganz_cat_present = example['Swan Ganz Catheter Present']\n",
        "    labels = [\n",
        "        ett_abnormal, ett_borderline, ett_normal,\n",
        "        ngt_abnormal, ngt_borderline, ngt_inc_imaged, ngt_normal,\n",
        "        cvc_abnormal, cvc_borderline, cvc_normal,\n",
        "        swan_ganz_cat_present,\n",
        "    ]\n",
        "    return image, labels, study_inst_id\n",
        "\n",
        "def load_train_dataset(filenames):\n",
        "    ds = tf.data.TFRecordDataset(filenames, num_parallel_reads=AUTOTUNE)\n",
        "    ds = ds.map(read_train_tfrecord, num_parallel_calls=AUTOTUNE)\n",
        "    return ds"
      ],
      "id": "norwegian-official",
      "execution_count": null,
      "outputs": []
    },
    {
      "cell_type": "markdown",
      "metadata": {
        "papermill": {
          "duration": 0.023479,
          "end_time": "2021-05-07T23:42:31.543582",
          "exception": false,
          "start_time": "2021-05-07T23:42:31.520103",
          "status": "completed"
        },
        "tags": [],
        "id": "retained-booth"
      },
      "source": [
        "## Model"
      ],
      "id": "retained-booth"
    },
    {
      "cell_type": "code",
      "metadata": {
        "execution": {
          "iopub.execute_input": "2021-05-07T23:42:31.594687Z",
          "iopub.status.busy": "2021-05-07T23:42:31.594156Z",
          "iopub.status.idle": "2021-05-07T23:42:31.598181Z",
          "shell.execute_reply": "2021-05-07T23:42:31.597547Z"
        },
        "papermill": {
          "duration": 0.031392,
          "end_time": "2021-05-07T23:42:31.598319",
          "exception": false,
          "start_time": "2021-05-07T23:42:31.566927",
          "status": "completed"
        },
        "tags": [],
        "id": "opponent-penalty"
      },
      "source": [
        "def load_model(model_name):\n",
        "    with strategy.scope():\n",
        "        model_path = ranzcr_model_dir + model_name\n",
        "        model = tf.keras.models.load_model(model_path)\n",
        "\n",
        "    model.summary()\n",
        "    return model"
      ],
      "id": "opponent-penalty",
      "execution_count": null,
      "outputs": []
    },
    {
      "cell_type": "code",
      "metadata": {
        "execution": {
          "iopub.execute_input": "2021-05-07T23:42:31.646367Z",
          "iopub.status.busy": "2021-05-07T23:42:31.645804Z",
          "iopub.status.idle": "2021-05-07T23:42:52.519989Z",
          "shell.execute_reply": "2021-05-07T23:42:52.519258Z"
        },
        "papermill": {
          "duration": 20.899445,
          "end_time": "2021-05-07T23:42:52.520119",
          "exception": false,
          "start_time": "2021-05-07T23:42:31.620674",
          "status": "completed"
        },
        "tags": [],
        "id": "mysterious-camping",
        "outputId": "a0464c27-e55e-40f1-bf11-919d8dc14b76"
      },
      "source": [
        "model = load_model(seg_model_name)"
      ],
      "id": "mysterious-camping",
      "execution_count": null,
      "outputs": [
        {
          "name": "stdout",
          "output_type": "stream",
          "text": [
            "Model: \"seg_model\"\n",
            "_________________________________________________________________\n",
            "Layer (type)                 Output Shape              Param #   \n",
            "=================================================================\n",
            "inputs (InputLayer)          [(None, 1024, 1024, 3)]   0         \n",
            "_________________________________________________________________\n",
            "model (Functional)           (None, None, None, 2)     37468818  \n",
            "=================================================================\n",
            "Total params: 37,468,818\n",
            "Trainable params: 37,294,098\n",
            "Non-trainable params: 174,720\n",
            "_________________________________________________________________\n"
          ]
        }
      ]
    },
    {
      "cell_type": "markdown",
      "metadata": {
        "papermill": {
          "duration": 0.021953,
          "end_time": "2021-05-07T23:42:52.564997",
          "exception": false,
          "start_time": "2021-05-07T23:42:52.543044",
          "status": "completed"
        },
        "tags": [],
        "id": "painted-garlic"
      },
      "source": [
        "## Dataset"
      ],
      "id": "painted-garlic"
    },
    {
      "cell_type": "code",
      "metadata": {
        "execution": {
          "iopub.execute_input": "2021-05-07T23:42:52.614221Z",
          "iopub.status.busy": "2021-05-07T23:42:52.613657Z",
          "iopub.status.idle": "2021-05-07T23:42:52.617997Z",
          "shell.execute_reply": "2021-05-07T23:42:52.617553Z"
        },
        "papermill": {
          "duration": 0.031381,
          "end_time": "2021-05-07T23:42:52.618117",
          "exception": false,
          "start_time": "2021-05-07T23:42:52.586736",
          "status": "completed"
        },
        "tags": [],
        "id": "median-campaign"
      },
      "source": [
        "def make_predict_dataset(image_batch):\n",
        "    def _preprocess_image(image):\n",
        "        image = tf.cast(image, tf.float32) / 255.0  # convert image to floats in [0, 1] range\n",
        "        image = tf.image.resize(image, (train_image_size, train_image_size))\n",
        "        return image\n",
        "    \n",
        "    ds = tf.data.Dataset.from_tensor_slices(image_batch)\n",
        "    ds = ds.map(_preprocess_image, num_parallel_calls=AUTOTUNE)\n",
        "    ds = ds.batch(batch_size)\n",
        "    return ds"
      ],
      "id": "median-campaign",
      "execution_count": null,
      "outputs": []
    },
    {
      "cell_type": "code",
      "metadata": {
        "execution": {
          "iopub.execute_input": "2021-05-07T23:42:52.669500Z",
          "iopub.status.busy": "2021-05-07T23:42:52.668901Z",
          "iopub.status.idle": "2021-05-07T23:42:52.672269Z",
          "shell.execute_reply": "2021-05-07T23:42:52.671848Z"
        },
        "papermill": {
          "duration": 0.0317,
          "end_time": "2021-05-07T23:42:52.672373",
          "exception": false,
          "start_time": "2021-05-07T23:42:52.640673",
          "status": "completed"
        },
        "tags": [],
        "id": "needed-anchor"
      },
      "source": [
        "def convert_image(image):\n",
        "    image = tf.image.resize(image, (gen_image_size, gen_image_size))\n",
        "    image = tf.cast(image, dtype=tf.uint8)\n",
        "    image = tf.image.encode_jpeg(image, quality=jpeg_quality)\n",
        "    return image\n",
        "\n",
        "def convert_mask(mask):\n",
        "    mask = tf.image.resize(mask, (gen_image_size, gen_image_size))\n",
        "    # Generated mask is 0..1, so change to 0..255.\n",
        "    mask = mask * 255.0\n",
        "    # Make 3 channels for encoding as PNG.\n",
        "    zeros = tf.zeros((gen_image_size, gen_image_size, 1))\n",
        "    mask = tf.concat([mask, zeros], axis=-1) \n",
        "    mask = tf.cast(mask, dtype=tf.uint8)\n",
        "    mask = tf.io.encode_png(mask)\n",
        "    return mask"
      ],
      "id": "needed-anchor",
      "execution_count": null,
      "outputs": []
    },
    {
      "cell_type": "code",
      "metadata": {
        "execution": {
          "iopub.execute_input": "2021-05-07T23:42:52.723597Z",
          "iopub.status.busy": "2021-05-07T23:42:52.722605Z",
          "iopub.status.idle": "2021-05-07T23:42:52.726264Z",
          "shell.execute_reply": "2021-05-07T23:42:52.725835Z"
        },
        "papermill": {
          "duration": 0.03152,
          "end_time": "2021-05-07T23:42:52.726378",
          "exception": false,
          "start_time": "2021-05-07T23:42:52.694858",
          "status": "completed"
        },
        "tags": [],
        "id": "suitable-train"
      },
      "source": [
        "def _bytes_feature(value):\n",
        "    \"\"\"Returns a bytes_list from a string / byte.\"\"\"\n",
        "    if isinstance(value, type(tf.constant(0))):\n",
        "        # BytesList won't unpack a string from an EagerTensor.\n",
        "        value = value.numpy() \n",
        "    elif isinstance(value, str):\n",
        "        # string needs to be encoded to bytes.\n",
        "        value = value.encode('utf-8')\n",
        "    return tf.train.Feature(bytes_list=tf.train.BytesList(value=[value]))\n",
        "\n",
        "def _int64_feature(value):\n",
        "    \"\"\"Returns an int64_list from a bool / enum / int / uint.\"\"\"\n",
        "    return tf.train.Feature(int64_list=tf.train.Int64List(value=[value]))"
      ],
      "id": "suitable-train",
      "execution_count": null,
      "outputs": []
    },
    {
      "cell_type": "code",
      "metadata": {
        "execution": {
          "iopub.execute_input": "2021-05-07T23:42:52.779343Z",
          "iopub.status.busy": "2021-05-07T23:42:52.778613Z",
          "iopub.status.idle": "2021-05-07T23:42:52.782389Z",
          "shell.execute_reply": "2021-05-07T23:42:52.781914Z"
        },
        "papermill": {
          "duration": 0.033886,
          "end_time": "2021-05-07T23:42:52.782503",
          "exception": false,
          "start_time": "2021-05-07T23:42:52.748617",
          "status": "completed"
        },
        "tags": [],
        "id": "simplified-reviewer"
      },
      "source": [
        "def serialize_example(image, mask, labels, fold):\n",
        "    feature = {\n",
        "        'image': _bytes_feature(image),\n",
        "        'mask': _bytes_feature(mask),\n",
        "        'ETT - Abnormal': _int64_feature(labels[0]),\n",
        "        'ETT - Borderline': _int64_feature(labels[1]),\n",
        "        'ETT - Normal': _int64_feature(labels[2]),\n",
        "        'NGT - Abnormal': _int64_feature(labels[3]),\n",
        "        'NGT - Borderline': _int64_feature(labels[4]),\n",
        "        'NGT - Incompletely Imaged': _int64_feature(labels[5]),\n",
        "        'NGT - Normal': _int64_feature(labels[6]),\n",
        "        'CVC - Abnormal': _int64_feature(labels[7]),\n",
        "        'CVC - Borderline': _int64_feature(labels[8]),\n",
        "        'CVC - Normal': _int64_feature(labels[9]),\n",
        "        'Swan Ganz Catheter Present': _int64_feature(labels[10]),\n",
        "        'fold': _int64_feature(fold),\n",
        "    }\n",
        "    \n",
        "    example_proto = tf.train.Example(\n",
        "        features=tf.train.Features(feature=feature))\n",
        "    return example_proto.SerializeToString()"
      ],
      "id": "simplified-reviewer",
      "execution_count": null,
      "outputs": []
    },
    {
      "cell_type": "code",
      "metadata": {
        "execution": {
          "iopub.execute_input": "2021-05-07T23:42:52.832624Z",
          "iopub.status.busy": "2021-05-07T23:42:52.832035Z",
          "iopub.status.idle": "2021-05-07T23:42:53.489475Z",
          "shell.execute_reply": "2021-05-07T23:42:53.490003Z"
        },
        "papermill": {
          "duration": 0.684772,
          "end_time": "2021-05-07T23:42:53.490160",
          "exception": false,
          "start_time": "2021-05-07T23:42:52.805388",
          "status": "completed"
        },
        "tags": [],
        "id": "satellite-belief",
        "outputId": "43c0d409-3967-4176-c455-562b8b7afba0"
      },
      "source": [
        "train_tfrec_paths = GCS_DS_PATH + '/train_tfrecords/*.tfrec'\n",
        "train_tfrec_file_names = sorted(tf.io.gfile.glob(train_tfrec_paths))\n",
        "train_tfrec_file_names = \\\n",
        "    train_tfrec_file_names[:2] if DEBUG else train_tfrec_file_names\n",
        "\n",
        "len(train_tfrec_file_names)"
      ],
      "id": "satellite-belief",
      "execution_count": null,
      "outputs": [
        {
          "data": {
            "text/plain": [
              "16"
            ]
          },
          "execution_count": 19,
          "metadata": {},
          "output_type": "execute_result"
        }
      ]
    },
    {
      "cell_type": "markdown",
      "metadata": {
        "papermill": {
          "duration": 0.025002,
          "end_time": "2021-05-07T23:42:53.540701",
          "exception": false,
          "start_time": "2021-05-07T23:42:53.515699",
          "status": "completed"
        },
        "tags": [],
        "id": "wrapped-drama"
      },
      "source": [
        "Only one fold..."
      ],
      "id": "wrapped-drama"
    },
    {
      "cell_type": "code",
      "metadata": {
        "execution": {
          "iopub.execute_input": "2021-05-07T23:42:53.605451Z",
          "iopub.status.busy": "2021-05-07T23:42:53.604659Z",
          "iopub.status.idle": "2021-05-08T01:11:01.754727Z",
          "shell.execute_reply": "2021-05-08T01:11:01.754278Z"
        },
        "papermill": {
          "duration": 5288.189384,
          "end_time": "2021-05-08T01:11:01.754906",
          "exception": false,
          "start_time": "2021-05-07T23:42:53.565522",
          "status": "completed"
        },
        "tags": [],
        "id": "local-wealth",
        "outputId": "bd5bf864-6541-4ac6-fa4a-97e0bd099818"
      },
      "source": [
        "for train_file_i, train_file_name in enumerate(train_tfrec_file_names):\n",
        "    train_ds = load_train_dataset(train_file_name)\n",
        "    train_ds = train_ds.take(100) if DEBUG else train_ds\n",
        "    \n",
        "    gen_item_count = 0\n",
        "    for train_item in train_ds:\n",
        "        gen_item_count += 1\n",
        "    gen_file_name = \\\n",
        "        \"{0:02d}-{1:04d}.tfrec\".format(train_file_i, gen_item_count)\n",
        "\n",
        "    print(\"Writing {0}...\".format(gen_file_name))\n",
        "    with tf.io.TFRecordWriter(gen_file_name) as writer:\n",
        "        train_batch_ds = train_ds.batch(batch_size)\n",
        "        for image_batch, labels_batch, study_inst_id_batch in train_batch_ds:\n",
        "            print('.', end='', flush=True)\n",
        "            pred_ds = make_predict_dataset(image_batch)\n",
        "            mask_batch = model.predict(pred_ds, verbose=0)\n",
        "            for image, mask, labels, study_inst_id in \\\n",
        "                    zip(image_batch, mask_batch,\n",
        "                        labels_batch, study_inst_id_batch):\n",
        "                image = convert_image(image)\n",
        "                mask = convert_mask(mask)\n",
        "                uid = study_inst_id.numpy().decode('utf-8')\n",
        "                fold = uid_fold_dict[uid]\n",
        "                example = serialize_example(image, mask, labels, fold)\n",
        "                writer.write(example)\n",
        "    print()"
      ],
      "id": "local-wealth",
      "execution_count": null,
      "outputs": [
        {
          "name": "stdout",
          "output_type": "stream",
          "text": [
            "Writing 00-1881.tfrec...\n",
            "......................................................................................................................\n",
            "Writing 01-1881.tfrec...\n",
            "......................................................................................................................\n",
            "Writing 02-1881.tfrec...\n",
            "......................................................................................................................\n",
            "Writing 03-1881.tfrec...\n",
            "......................................................................................................................\n",
            "Writing 04-1881.tfrec...\n",
            "......................................................................................................................\n",
            "Writing 05-1881.tfrec...\n",
            "......................................................................................................................\n",
            "Writing 06-1881.tfrec...\n",
            "......................................................................................................................\n",
            "Writing 07-1881.tfrec...\n",
            "......................................................................................................................\n",
            "Writing 08-1881.tfrec...\n",
            "......................................................................................................................\n",
            "Writing 09-1881.tfrec...\n",
            "......................................................................................................................\n",
            "Writing 10-1881.tfrec...\n",
            "......................................................................................................................\n",
            "Writing 11-1881.tfrec...\n",
            "......................................................................................................................\n",
            "Writing 12-1881.tfrec...\n",
            "......................................................................................................................\n",
            "Writing 13-1881.tfrec...\n",
            "......................................................................................................................\n",
            "Writing 14-1881.tfrec...\n",
            "......................................................................................................................\n",
            "Writing 15-1868.tfrec...\n",
            ".....................................................................................................................\n"
          ]
        }
      ]
    },
    {
      "cell_type": "code",
      "metadata": {
        "execution": {
          "iopub.execute_input": "2021-05-08T01:11:02.831284Z",
          "iopub.status.busy": "2021-05-08T01:11:02.795637Z",
          "iopub.status.idle": "2021-05-08T01:11:03.517145Z",
          "shell.execute_reply": "2021-05-08T01:11:03.516625Z"
        },
        "papermill": {
          "duration": 1.242391,
          "end_time": "2021-05-08T01:11:03.517290",
          "exception": false,
          "start_time": "2021-05-08T01:11:02.274899",
          "status": "completed"
        },
        "tags": [],
        "id": "collaborative-destiny",
        "outputId": "d1f00b24-d202-4110-c67c-a3a11c4850a6"
      },
      "source": [
        "! ls -l"
      ],
      "id": "collaborative-destiny",
      "execution_count": null,
      "outputs": [
        {
          "name": "stdout",
          "output_type": "stream",
          "text": [
            "total 3661720\r\n",
            "-rw-r--r-- 1 root root 239197201 May  7 23:48 00-1881.tfrec\r\n",
            "-rw-r--r-- 1 root root 231323545 May  7 23:54 01-1881.tfrec\r\n",
            "-rw-r--r-- 1 root root 230551566 May  7 23:59 02-1881.tfrec\r\n",
            "-rw-r--r-- 1 root root 228274255 May  8 00:04 03-1881.tfrec\r\n",
            "-rw-r--r-- 1 root root 232200469 May  8 00:10 04-1881.tfrec\r\n",
            "-rw-r--r-- 1 root root 230165133 May  8 00:15 05-1881.tfrec\r\n",
            "-rw-r--r-- 1 root root 239455215 May  8 00:21 06-1881.tfrec\r\n",
            "-rw-r--r-- 1 root root 237153389 May  8 00:26 07-1881.tfrec\r\n",
            "-rw-r--r-- 1 root root 236765783 May  8 00:32 08-1881.tfrec\r\n",
            "-rw-r--r-- 1 root root 227248641 May  8 00:37 09-1881.tfrec\r\n",
            "-rw-r--r-- 1 root root 226831116 May  8 00:43 10-1881.tfrec\r\n",
            "-rw-r--r-- 1 root root 231515090 May  8 00:48 11-1881.tfrec\r\n",
            "-rw-r--r-- 1 root root 242158729 May  8 00:54 12-1881.tfrec\r\n",
            "-rw-r--r-- 1 root root 240821906 May  8 00:59 13-1881.tfrec\r\n",
            "-rw-r--r-- 1 root root 240277954 May  8 01:05 14-1881.tfrec\r\n",
            "-rw-r--r-- 1 root root 235380218 May  8 01:11 15-1868.tfrec\r\n",
            "---------- 1 root root    235593 May  8 01:11 __notebook__.ipynb\r\n"
          ]
        }
      ]
    },
    {
      "cell_type": "markdown",
      "metadata": {
        "papermill": {
          "duration": 0.507246,
          "end_time": "2021-05-08T01:11:04.544852",
          "exception": false,
          "start_time": "2021-05-08T01:11:04.037606",
          "status": "completed"
        },
        "tags": [],
        "id": "intimate-christianity"
      },
      "source": [
        "## Verify Generated TFRecords"
      ],
      "id": "intimate-christianity"
    },
    {
      "cell_type": "code",
      "metadata": {
        "execution": {
          "iopub.execute_input": "2021-05-08T01:11:05.561843Z",
          "iopub.status.busy": "2021-05-08T01:11:05.560940Z",
          "iopub.status.idle": "2021-05-08T01:11:05.587079Z",
          "shell.execute_reply": "2021-05-08T01:11:05.586615Z"
        },
        "papermill": {
          "duration": 0.534582,
          "end_time": "2021-05-08T01:11:05.587198",
          "exception": false,
          "start_time": "2021-05-08T01:11:05.052616",
          "status": "completed"
        },
        "tags": [],
        "id": "occasional-punishment"
      },
      "source": [
        "def decode_gen_image(image_bytes):\n",
        "    image = tf.image.decode_jpeg(image_bytes, channels=3)\n",
        "    return image\n",
        "\n",
        "def decode_gen_mask(mask_bytes):\n",
        "    mask = tf.io.decode_png(mask_bytes, channels=3)\n",
        "    return mask\n",
        "\n",
        "def read_gen_tfrecord(example):\n",
        "    TFREC_FORMAT = {\n",
        "        'image': tf.io.FixedLenFeature([], tf.string),\n",
        "        'mask': tf.io.FixedLenFeature([], tf.string),\n",
        "        'ETT - Abnormal': tf.io.FixedLenFeature([], tf.int64),\n",
        "        'ETT - Borderline': tf.io.FixedLenFeature([], tf.int64),\n",
        "        'ETT - Normal': tf.io.FixedLenFeature([], tf.int64),\n",
        "        'NGT - Abnormal': tf.io.FixedLenFeature([], tf.int64),\n",
        "        'NGT - Borderline': tf.io.FixedLenFeature([], tf.int64),\n",
        "        'NGT - Incompletely Imaged': tf.io.FixedLenFeature([], tf.int64),\n",
        "        'NGT - Normal': tf.io.FixedLenFeature([], tf.int64),\n",
        "        'CVC - Abnormal': tf.io.FixedLenFeature([], tf.int64),\n",
        "        'CVC - Borderline': tf.io.FixedLenFeature([], tf.int64),\n",
        "        'CVC - Normal': tf.io.FixedLenFeature([], tf.int64),\n",
        "        'Swan Ganz Catheter Present': tf.io.FixedLenFeature([], tf.int64),\n",
        "        'fold': tf.io.FixedLenFeature([], tf.int64),\n",
        "    }\n",
        "    \n",
        "    example = tf.io.parse_single_example(example, TFREC_FORMAT)\n",
        "    image = decode_gen_image(example['image'])\n",
        "    mask = decode_gen_mask(example['mask'])\n",
        "    ett_abnormal = example['ETT - Abnormal']\n",
        "    ett_borderline = example['ETT - Borderline']\n",
        "    ett_normal = example['ETT - Normal']\n",
        "    ngt_abnormal = example['NGT - Abnormal']\n",
        "    ngt_borderline = example['NGT - Borderline']\n",
        "    ngt_inc_imaged = example['NGT - Incompletely Imaged']\n",
        "    ngt_normal = example['NGT - Normal']\n",
        "    cvc_abnormal = example['CVC - Abnormal']\n",
        "    cvc_borderline = example['CVC - Borderline']\n",
        "    cvc_normal = example['CVC - Normal']\n",
        "    swan_ganz_cat_present = example['Swan Ganz Catheter Present']\n",
        "    labels = [\n",
        "        ett_abnormal, ett_borderline, ett_normal,\n",
        "        ngt_abnormal, ngt_borderline, ngt_inc_imaged, ngt_normal,\n",
        "        cvc_abnormal, cvc_borderline, cvc_normal,\n",
        "        swan_ganz_cat_present,\n",
        "    ]\n",
        "    fold = example['fold']\n",
        "    return image, mask, labels, fold\n",
        "\n",
        "def load_gen_dataset(filenames):\n",
        "    dataset = tf.data.TFRecordDataset(filenames, num_parallel_reads=None)\n",
        "    dataset = dataset.map(read_gen_tfrecord, num_parallel_calls=None)\n",
        "    return dataset"
      ],
      "id": "occasional-punishment",
      "execution_count": null,
      "outputs": []
    },
    {
      "cell_type": "code",
      "metadata": {
        "execution": {
          "iopub.execute_input": "2021-05-08T01:11:06.627409Z",
          "iopub.status.busy": "2021-05-08T01:11:06.626467Z",
          "iopub.status.idle": "2021-05-08T01:11:06.926704Z",
          "shell.execute_reply": "2021-05-08T01:11:06.925740Z"
        },
        "papermill": {
          "duration": 0.821061,
          "end_time": "2021-05-08T01:11:06.926894",
          "exception": false,
          "start_time": "2021-05-08T01:11:06.105833",
          "status": "completed"
        },
        "tags": [],
        "id": "cardiovascular-bouquet",
        "outputId": "df51c48a-fe67-42f1-e0aa-a82710dcd114"
      },
      "source": [
        "gen_tfrec_file_names = tf.io.gfile.glob('*.tfrec')\n",
        "gen_ds = load_gen_dataset(gen_tfrec_file_names)\n",
        "\n",
        "print(gen_ds)"
      ],
      "id": "cardiovascular-bouquet",
      "execution_count": null,
      "outputs": [
        {
          "name": "stdout",
          "output_type": "stream",
          "text": [
            "<MapDataset shapes: ((None, None, 3), (None, None, 3), (11,), ()), types: (tf.uint8, tf.uint8, tf.int64, tf.int64)>\n"
          ]
        }
      ]
    },
    {
      "cell_type": "code",
      "metadata": {
        "execution": {
          "iopub.execute_input": "2021-05-08T01:11:08.266287Z",
          "iopub.status.busy": "2021-05-08T01:11:08.265456Z",
          "iopub.status.idle": "2021-05-08T01:11:10.312824Z",
          "shell.execute_reply": "2021-05-08T01:11:10.313232Z"
        },
        "papermill": {
          "duration": 2.596002,
          "end_time": "2021-05-08T01:11:10.313386",
          "exception": false,
          "start_time": "2021-05-08T01:11:07.717384",
          "status": "completed"
        },
        "tags": [],
        "id": "variable-williams",
        "outputId": "79675971-fa17-4ee5-db56-145686e5328f"
      },
      "source": [
        "from pylab import rcParams\n",
        "rcParams['figure.figsize'] = 20,10\n",
        "\n",
        "f, axarr = plt.subplots(1,5)\n",
        "masks = []\n",
        "gen_ds_iter = iter(gen_ds)\n",
        "for p in range(5):\n",
        "    img, mask, labels, fold = next(gen_ds_iter)\n",
        "    axarr[p].imshow(img)\n",
        "    title = \"{0}{1}{2}:{3}{4}{5}{6}:{7}{8}{9}:{10}-{11}\".format(\n",
        "        labels[0], labels[1], labels[2],\n",
        "        labels[3], labels[4], labels[5], labels[6],\n",
        "        labels[7], labels[8], labels[9], labels[10],\n",
        "        fold)\n",
        "    axarr[p].set_title(title)\n",
        "    masks.append(mask)\n",
        "\n",
        "f, axarr = plt.subplots(1,5)\n",
        "for p in range(5):\n",
        "    axarr[p].imshow(masks[p][ : , : , 0])\n",
        "\n",
        "f, axarr = plt.subplots(1,5)\n",
        "for p in range(5):\n",
        "    axarr[p].imshow(masks[p][ : , : , 1])"
      ],
      "id": "variable-williams",
      "execution_count": null,
      "outputs": [
        {
          "data": {
            "image/png": "[encoded data removed]",
            "text/plain": [
              "<Figure size 1440x720 with 5 Axes>"
            ]
          },
          "metadata": {
            "needs_background": "light"
          },
          "output_type": "display_data"
        },
        {
          "data": {
            "image/png": "[encoded data removed]",
            "text/plain": [
              "<Figure size 1440x720 with 5 Axes>"
            ]
          },
          "metadata": {
            "needs_background": "light"
          },
          "output_type": "display_data"
        },
        {
          "data": {
            "image/png": "[encoded data removed]",
            "text/plain": [
              "<Figure size 1440x720 with 5 Axes>"
            ]
          },
          "metadata": {
            "needs_background": "light"
          },
          "output_type": "display_data"
        }
      ]
    }
  ]
}